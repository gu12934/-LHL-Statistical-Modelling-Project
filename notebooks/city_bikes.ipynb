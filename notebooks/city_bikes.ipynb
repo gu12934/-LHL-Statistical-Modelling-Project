{
 "cells": [
  {
   "cell_type": "markdown",
   "metadata": {},
   "source": [
    "# CityBikes"
   ]
  },
  {
   "cell_type": "markdown",
   "metadata": {},
   "source": [
    "Need to add the relevant libraries first\n"
   ]
  },
  {
   "cell_type": "code",
   "execution_count": 1,
   "metadata": {},
   "outputs": [],
   "source": [
    "import requests\n",
    "import os\n",
    "import pandas as pd"
   ]
  },
  {
   "cell_type": "markdown",
   "metadata": {},
   "source": [
    "Explore the structure of the API, query the API and understand the data returned.\n"
   ]
  },
  {
   "cell_type": "code",
   "execution_count": 2,
   "metadata": {},
   "outputs": [],
   "source": [
    "# API End points\n",
    "# http://api.citybik.es/v2/networks\n",
    "# {\n",
    "#   \"networks\": [\n",
    "#     {\n",
    "#         \"company\": \"JCDecaux\", \n",
    "#         \"href\": \"/v2/networks/velib\", <--- network API endpoint\n",
    "#         \"location\": {\n",
    "#           \"latitude\": 48.856612, \n",
    "#           \"city\": \"Paris\", \n",
    "#           \"longitude\": 2.352233, \n",
    "#           \"country\": \"FRA\"\n",
    "#         }, \n",
    "#         \"name\": \"Vélib'\", \n",
    "#         \"id\": \"velib\"\n",
    "#     },\n",
    "#     {...}\n",
    "#   ]\n",
    "# }\n",
    "# http://api.citybik.es/v2/networks/network_id\n",
    "\n",
    "# {\n",
    "#   \"network\": {\n",
    "#     \"name\": \"Vélib'\", \n",
    "#     \"stations\": [\n",
    "#       {\n",
    "#           \"name\": \"00903 - QUAI MAURIAC  / PONT DE BERCY\",   /   UTC Zulu timestamp of the last time\n",
    "#           \"timestamp\": \"2014-04-14T12:10:17.622Z\",  <-------/ the station was updated on our systems\n",
    "#           \"longitude\": 2.374340554605615,                       \n",
    "#           \"free_bikes\": 1,   <-------------------------- Available bikes\n",
    "#           \"latitude\": 48.83713368945151, \n",
    "#           \"empty_slots\": 19,  <------------------------- Empty spaces\n",
    "#           \"id\": \"f5a551a87eec15155d6409fe9d0ff8e2\" <---- Unique id for this station\n",
    "#       },\n",
    "#       {...}\n",
    "#     ], \n",
    "#     \"company\": \"JCDecaux\",           |\n",
    "#     \"href\": \"/v2/networks/velib\",       |        Redundant Information\n",
    "#     \"location\": {                    |\n",
    "#       \"latitude\": 48.856612,         |    Just so you know where you are\n",
    "#       \"city\": \"Paris\",               |---      with less requests\n",
    "#       \"longitude\": 2.352233,         | \n",
    "#       \"country\": \"FRA\"               |    This can be filtered by passing\n",
    "#     },                               |      ?fields=stations to the URI\n",
    "#     \"id\": \"velib\"                    |\n",
    "#   }\n",
    "# }\n"
   ]
  },
  {
   "cell_type": "markdown",
   "metadata": {},
   "source": [
    "Send a request to CityBikes for the city of your choice. \n"
   ]
  },
  {
   "cell_type": "code",
   "execution_count": 3,
   "metadata": {},
   "outputs": [],
   "source": [
    "# Step 1: Choose a city and get the network ID from the /v2/networks endpoint\n",
    "city_name = 'Vancouver'\n",
    "networks_url = 'http://api.citybik.es/v2/networks'\n",
    "response = requests.get(networks_url)\n",
    "networks_data = response.json()"
   ]
  },
  {
   "cell_type": "code",
   "execution_count": 4,
   "metadata": {},
   "outputs": [],
   "source": [
    "# Find the network information for the chosen city\n",
    "network_info = next((network for network in networks_data['networks'] if network['location']['city'] == city_name), None)\n",
    "\n",
    "if network_info:\n",
    "    # Step 2: Use the network ID to retrieve information about bike stations in that city\n",
    "    network_id = network_info['id']\n",
    "    api_url = f'http://api.citybik.es/v2/networks/{network_id}'\n",
    "\n",
    "    response = requests.get(api_url)\n",
    "    data = response.json()"
   ]
  },
  {
   "cell_type": "code",
   "execution_count": 5,
   "metadata": {},
   "outputs": [
    {
     "name": "stdout",
     "output_type": "stream",
     "text": [
      "<class 'dict'>\n",
      "<class 'list'>\n"
     ]
    },
    {
     "data": {
      "text/plain": [
       "dict_keys(['empty_slots', 'extra', 'free_bikes', 'id', 'latitude', 'longitude', 'name', 'timestamp'])"
      ]
     },
     "execution_count": 5,
     "metadata": {},
     "output_type": "execute_result"
    }
   ],
   "source": [
    "#exploring how response work\n",
    "print(type(data))\n",
    "print(type(data['network']['stations']))\n",
    "data['network']['stations'][0].keys()"
   ]
  },
  {
   "cell_type": "markdown",
   "metadata": {},
   "source": [
    "Parse through the response to get the details you want for the bike stations in that city (latitude, longitude, number of bikes). "
   ]
  },
  {
   "cell_type": "code",
   "execution_count": 6,
   "metadata": {},
   "outputs": [
    {
     "data": {
      "text/plain": [
       "{'empty_slots': 17,\n",
       " 'extra': {'ebikes': 0,\n",
       "  'has_ebikes': True,\n",
       "  'last_updated': 1702153470,\n",
       "  'normal_bikes': 9,\n",
       "  'renting': True,\n",
       "  'returning': True,\n",
       "  'slots': 26,\n",
       "  'uid': '0016'},\n",
       " 'free_bikes': 9,\n",
       " 'id': 'bf8408067b0e0c963f3ff526977bcef3',\n",
       " 'latitude': 49.287097,\n",
       " 'longitude': -123.118551,\n",
       " 'name': 'Pender & Burrard',\n",
       " 'timestamp': '2023-12-09T20:30:27.019000Z'}"
      ]
     },
     "execution_count": 6,
     "metadata": {},
     "output_type": "execute_result"
    }
   ],
   "source": [
    "data['network']['stations'][10]"
   ]
  },
  {
   "cell_type": "code",
   "execution_count": 7,
   "metadata": {},
   "outputs": [],
   "source": [
    "# Step 3: Extract relevant station information\n",
    "station_data = []\n",
    "for station in data['network']['stations']:\n",
    "        station_info = {\n",
    "            'latitude': station['latitude'],\n",
    "            'longitude': station['longitude'],\n",
    "            'num_bikes': station['free_bikes'],\n",
    "            \n",
    "        }\n",
    "        station_data.append(station_info)"
   ]
  },
  {
   "cell_type": "markdown",
   "metadata": {},
   "source": [
    "Put your parsed results into a DataFrame."
   ]
  },
  {
   "cell_type": "code",
   "execution_count": 8,
   "metadata": {},
   "outputs": [],
   "source": [
    "    # Step 4: Create a Pandas DataFrame\n",
    "    df = pd.DataFrame(station_data)\n"
   ]
  },
  {
   "cell_type": "code",
   "execution_count": 9,
   "metadata": {},
   "outputs": [
    {
     "name": "stdout",
     "output_type": "stream",
     "text": [
      "    latitude   longitude  num_bikes\n",
      "0  49.262487 -123.114397         22\n",
      "1  49.274566 -123.121817          5\n",
      "2  49.279764 -123.110154         25\n",
      "3  49.260599 -123.113504          2\n",
      "4  49.264215 -123.117772          7\n",
      "         latitude   longitude   num_bikes\n",
      "count  248.000000  248.000000  248.000000\n",
      "mean    49.271780 -123.119346    9.040323\n",
      "std      0.011708    0.032818    5.782704\n",
      "min     49.238105 -123.252261    0.000000\n",
      "25%     49.263484 -123.138182    4.000000\n",
      "50%     49.271063 -123.118073    8.000000\n",
      "75%     49.280662 -123.099747   13.000000\n",
      "max     49.302577 -123.056909   31.000000\n"
     ]
    }
   ],
   "source": [
    " # Step 5: Explore and Analyze the Data\n",
    "    # Display the first few rows of the DataFrame\n",
    "print(df.head())\n",
    "\n",
    "    # Basic statistics\n",
    "print(df.describe())\n"
   ]
  },
  {
   "cell_type": "code",
   "execution_count": 10,
   "metadata": {},
   "outputs": [],
   "source": [
    "response_data = data['network']['stations']\n",
    "bike_stations = pd.json_normalize(response_data)\n",
    "\n",
    "# drop unnecessary columns\n",
    "columns_to_drop = list(bike_stations.columns[6:])\n",
    "bike_stations = bike_stations.drop(columns=columns_to_drop)"
   ]
  },
  {
   "cell_type": "code",
   "execution_count": 11,
   "metadata": {},
   "outputs": [
    {
     "data": {
      "text/html": [
       "<div>\n",
       "<style scoped>\n",
       "    .dataframe tbody tr th:only-of-type {\n",
       "        vertical-align: middle;\n",
       "    }\n",
       "\n",
       "    .dataframe tbody tr th {\n",
       "        vertical-align: top;\n",
       "    }\n",
       "\n",
       "    .dataframe thead th {\n",
       "        text-align: right;\n",
       "    }\n",
       "</style>\n",
       "<table border=\"1\" class=\"dataframe\">\n",
       "  <thead>\n",
       "    <tr style=\"text-align: right;\">\n",
       "      <th></th>\n",
       "      <th>empty_slots</th>\n",
       "      <th>free_bikes</th>\n",
       "      <th>id</th>\n",
       "      <th>latitude</th>\n",
       "      <th>longitude</th>\n",
       "      <th>name</th>\n",
       "    </tr>\n",
       "  </thead>\n",
       "  <tbody>\n",
       "    <tr>\n",
       "      <th>0</th>\n",
       "      <td>13</td>\n",
       "      <td>22</td>\n",
       "      <td>7a19c49f486d7c0c02b3685d7b240448</td>\n",
       "      <td>49.262487</td>\n",
       "      <td>-123.114397</td>\n",
       "      <td>10th &amp; Cambie</td>\n",
       "    </tr>\n",
       "    <tr>\n",
       "      <th>1</th>\n",
       "      <td>11</td>\n",
       "      <td>5</td>\n",
       "      <td>32603a87cfca71d0f7dfa3513bad69d5</td>\n",
       "      <td>49.274566</td>\n",
       "      <td>-123.121817</td>\n",
       "      <td>Yaletown-Roundhouse Station</td>\n",
       "    </tr>\n",
       "    <tr>\n",
       "      <th>2</th>\n",
       "      <td>1</td>\n",
       "      <td>25</td>\n",
       "      <td>6d42fa40360f9a6b2bf641c7b8bb2862</td>\n",
       "      <td>49.279764</td>\n",
       "      <td>-123.110154</td>\n",
       "      <td>Dunsmuir &amp; Beatty</td>\n",
       "    </tr>\n",
       "    <tr>\n",
       "      <th>3</th>\n",
       "      <td>13</td>\n",
       "      <td>2</td>\n",
       "      <td>66f873d641d448bd1572ab086665a458</td>\n",
       "      <td>49.260599</td>\n",
       "      <td>-123.113504</td>\n",
       "      <td>12th &amp; Yukon (City Hall)</td>\n",
       "    </tr>\n",
       "    <tr>\n",
       "      <th>4</th>\n",
       "      <td>9</td>\n",
       "      <td>7</td>\n",
       "      <td>485d4d24c803cfde829ab89699fed833</td>\n",
       "      <td>49.264215</td>\n",
       "      <td>-123.117772</td>\n",
       "      <td>8th &amp; Ash</td>\n",
       "    </tr>\n",
       "  </tbody>\n",
       "</table>\n",
       "</div>"
      ],
      "text/plain": [
       "   empty_slots  free_bikes                                id   latitude  \\\n",
       "0           13          22  7a19c49f486d7c0c02b3685d7b240448  49.262487   \n",
       "1           11           5  32603a87cfca71d0f7dfa3513bad69d5  49.274566   \n",
       "2            1          25  6d42fa40360f9a6b2bf641c7b8bb2862  49.279764   \n",
       "3           13           2  66f873d641d448bd1572ab086665a458  49.260599   \n",
       "4            9           7  485d4d24c803cfde829ab89699fed833  49.264215   \n",
       "\n",
       "    longitude                         name  \n",
       "0 -123.114397                10th & Cambie  \n",
       "1 -123.121817  Yaletown-Roundhouse Station  \n",
       "2 -123.110154            Dunsmuir & Beatty  \n",
       "3 -123.113504     12th & Yukon (City Hall)  \n",
       "4 -123.117772                    8th & Ash  "
      ]
     },
     "execution_count": 11,
     "metadata": {},
     "output_type": "execute_result"
    }
   ],
   "source": [
    "bike_stations.head()"
   ]
  },
  {
   "cell_type": "code",
   "execution_count": 12,
   "metadata": {},
   "outputs": [
    {
     "data": {
      "text/plain": [
       "(248, 6)"
      ]
     },
     "execution_count": 12,
     "metadata": {},
     "output_type": "execute_result"
    }
   ],
   "source": [
    "bike_stations.shape"
   ]
  },
  {
   "cell_type": "code",
   "execution_count": 13,
   "metadata": {},
   "outputs": [
    {
     "name": "stdout",
     "output_type": "stream",
     "text": [
      "<class 'pandas.core.frame.DataFrame'>\n",
      "RangeIndex: 248 entries, 0 to 247\n",
      "Data columns (total 6 columns):\n",
      " #   Column       Non-Null Count  Dtype  \n",
      "---  ------       --------------  -----  \n",
      " 0   empty_slots  248 non-null    int64  \n",
      " 1   free_bikes   248 non-null    int64  \n",
      " 2   id           248 non-null    object \n",
      " 3   latitude     248 non-null    float64\n",
      " 4   longitude    248 non-null    float64\n",
      " 5   name         248 non-null    object \n",
      "dtypes: float64(2), int64(2), object(2)\n",
      "memory usage: 11.8+ KB\n"
     ]
    }
   ],
   "source": [
    "bike_stations.info()"
   ]
  },
  {
   "cell_type": "code",
   "execution_count": 14,
   "metadata": {},
   "outputs": [],
   "source": [
    "#save data to use in another notebook \n",
    "bike_stations.to_csv('../data/bike_stations_van.csv')"
   ]
  }
 ],
 "metadata": {
  "kernelspec": {
   "display_name": "Python 3",
   "language": "python",
   "name": "python3"
  },
  "language_info": {
   "codemirror_mode": {
    "name": "ipython",
    "version": 3
   },
   "file_extension": ".py",
   "mimetype": "text/x-python",
   "name": "python",
   "nbconvert_exporter": "python",
   "pygments_lexer": "ipython3",
   "version": "3.10.11"
  }
 },
 "nbformat": 4,
 "nbformat_minor": 4
}
