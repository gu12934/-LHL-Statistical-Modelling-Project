{
 "cells": [
  {
   "cell_type": "markdown",
   "metadata": {},
   "source": [
    "# CityBikes"
   ]
  },
  {
   "cell_type": "markdown",
   "metadata": {},
   "source": [
    "Need to add the relevant libraries first\n"
   ]
  },
  {
   "cell_type": "code",
   "execution_count": 2,
   "metadata": {},
   "outputs": [],
   "source": [
    "import requests\n",
    "import os\n",
    "import pandas as pd"
   ]
  },
  {
   "cell_type": "markdown",
   "metadata": {},
   "source": [
    "Explore the structure of the API, query the API and understand the data returned.\n"
   ]
  },
  {
   "cell_type": "code",
   "execution_count": 3,
   "metadata": {},
   "outputs": [],
   "source": [
    "# API End points\n",
    "# http://api.citybik.es/v2/networks\n",
    "# {\n",
    "#   \"networks\": [\n",
    "#     {\n",
    "#         \"company\": \"JCDecaux\", \n",
    "#         \"href\": \"/v2/networks/velib\", <--- network API endpoint\n",
    "#         \"location\": {\n",
    "#           \"latitude\": 48.856612, \n",
    "#           \"city\": \"Paris\", \n",
    "#           \"longitude\": 2.352233, \n",
    "#           \"country\": \"FRA\"\n",
    "#         }, \n",
    "#         \"name\": \"Vélib'\", \n",
    "#         \"id\": \"velib\"\n",
    "#     },\n",
    "#     {...}\n",
    "#   ]\n",
    "# }\n",
    "# http://api.citybik.es/v2/networks/network_id\n",
    "\n",
    "# {\n",
    "#   \"network\": {\n",
    "#     \"name\": \"Vélib'\", \n",
    "#     \"stations\": [\n",
    "#       {\n",
    "#           \"name\": \"00903 - QUAI MAURIAC  / PONT DE BERCY\",   /   UTC Zulu timestamp of the last time\n",
    "#           \"timestamp\": \"2014-04-14T12:10:17.622Z\",  <-------/ the station was updated on our systems\n",
    "#           \"longitude\": 2.374340554605615,                       \n",
    "#           \"free_bikes\": 1,   <-------------------------- Available bikes\n",
    "#           \"latitude\": 48.83713368945151, \n",
    "#           \"empty_slots\": 19,  <------------------------- Empty spaces\n",
    "#           \"id\": \"f5a551a87eec15155d6409fe9d0ff8e2\" <---- Unique id for this station\n",
    "#       },\n",
    "#       {...}\n",
    "#     ], \n",
    "#     \"company\": \"JCDecaux\",           |\n",
    "#     \"href\": \"/v2/networks/velib\",       |        Redundant Information\n",
    "#     \"location\": {                    |\n",
    "#       \"latitude\": 48.856612,         |    Just so you know where you are\n",
    "#       \"city\": \"Paris\",               |---      with less requests\n",
    "#       \"longitude\": 2.352233,         | \n",
    "#       \"country\": \"FRA\"               |    This can be filtered by passing\n",
    "#     },                               |      ?fields=stations to the URI\n",
    "#     \"id\": \"velib\"                    |\n",
    "#   }\n",
    "# }\n"
   ]
  },
  {
   "cell_type": "markdown",
   "metadata": {},
   "source": [
    "Send a request to CityBikes for the city of your choice. \n"
   ]
  },
  {
   "cell_type": "code",
   "execution_count": 4,
   "metadata": {},
   "outputs": [],
   "source": [
    "# Step 1: Choose a city and get the network ID from the /v2/networks endpoint\n",
    "city_name = 'Barcelona'\n",
    "networks_url = 'http://api.citybik.es/v2/networks'\n",
    "response = requests.get(networks_url)\n",
    "networks_data = response.json()"
   ]
  },
  {
   "cell_type": "code",
   "execution_count": 6,
   "metadata": {},
   "outputs": [],
   "source": [
    "# Find the network information for the chosen city\n",
    "network_info = next((network for network in networks_data['networks'] if network['location']['city'] == city_name), None)\n",
    "\n",
    "if network_info:\n",
    "    # Step 2: Use the network ID to retrieve information about bike stations in that city\n",
    "    network_id = network_info['id']\n",
    "    api_url = f'http://api.citybik.es/v2/networks/{network_id}'\n",
    "\n",
    "    response = requests.get(api_url)\n",
    "    data = response.json()"
   ]
  },
  {
   "cell_type": "code",
   "execution_count": 7,
   "metadata": {},
   "outputs": [
    {
     "name": "stdout",
     "output_type": "stream",
     "text": [
      "<class 'dict'>\n",
      "<class 'list'>\n"
     ]
    },
    {
     "data": {
      "text/plain": [
       "dict_keys(['empty_slots', 'extra', 'free_bikes', 'id', 'latitude', 'longitude', 'name', 'timestamp'])"
      ]
     },
     "execution_count": 7,
     "metadata": {},
     "output_type": "execute_result"
    }
   ],
   "source": [
    "#exploring how response work\n",
    "print(type(data))\n",
    "print(type(data['network']['stations']))\n",
    "data['network']['stations'][0].keys()"
   ]
  },
  {
   "cell_type": "markdown",
   "metadata": {},
   "source": [
    "Parse through the response to get the details you want for the bike stations in that city (latitude, longitude, number of bikes). "
   ]
  },
  {
   "cell_type": "code",
   "execution_count": 8,
   "metadata": {},
   "outputs": [
    {
     "data": {
      "text/plain": [
       "{'empty_slots': 17,\n",
       " 'extra': {'ebikes': 1,\n",
       "  'has_ebikes': True,\n",
       "  'normal_bikes': 3,\n",
       "  'online': True,\n",
       "  'uid': 103},\n",
       " 'free_bikes': 4,\n",
       " 'id': 'de0e8ba6e1c44e2b7c452a639777e19a',\n",
       " 'latitude': 41.410098,\n",
       " 'longitude': 2.1884487,\n",
       " 'name': 'C/ ARAGÓ, 629',\n",
       " 'timestamp': '2023-12-09T18:28:23.417000Z'}"
      ]
     },
     "execution_count": 8,
     "metadata": {},
     "output_type": "execute_result"
    }
   ],
   "source": [
    "data['network']['stations'][10]"
   ]
  },
  {
   "cell_type": "code",
   "execution_count": 9,
   "metadata": {},
   "outputs": [],
   "source": [
    "# Step 3: Extract relevant station information\n",
    "station_data = []\n",
    "for station in data['network']['stations']:\n",
    "        station_info = {\n",
    "            'latitude': station['latitude'],\n",
    "            'longitude': station['longitude'],\n",
    "            'num_bikes': station['free_bikes'],\n",
    "            \n",
    "        }\n",
    "        station_data.append(station_info)"
   ]
  },
  {
   "cell_type": "markdown",
   "metadata": {},
   "source": [
    "Put your parsed results into a DataFrame."
   ]
  },
  {
   "cell_type": "code",
   "execution_count": 10,
   "metadata": {},
   "outputs": [],
   "source": [
    "    # Step 4: Create a Pandas DataFrame\n",
    "    df = pd.DataFrame(station_data)\n"
   ]
  },
  {
   "cell_type": "code",
   "execution_count": 11,
   "metadata": {},
   "outputs": [
    {
     "name": "stdout",
     "output_type": "stream",
     "text": [
      "    latitude  longitude  num_bikes\n",
      "0  41.425364   2.185207          8\n",
      "1  41.430000   2.190246          8\n",
      "2  41.443365   2.190630         16\n",
      "3  41.377532   2.170732         16\n",
      "4  41.375116   2.152309          3\n",
      "         latitude   longitude   num_bikes\n",
      "count  505.000000  505.000000  505.000000\n",
      "mean    41.399749    2.168005    9.275248\n",
      "std      0.020970    0.024676    6.785948\n",
      "min     41.346775    2.109154    0.000000\n",
      "25%     41.383904    2.149055    4.000000\n",
      "50%     41.396141    2.170650    8.000000\n",
      "75%     41.412045    2.187244   14.000000\n",
      "max     41.462095    2.220691   31.000000\n"
     ]
    }
   ],
   "source": [
    " # Step 5: Explore and Analyze the Data\n",
    "    # Display the first few rows of the DataFrame\n",
    "print(df.head())\n",
    "\n",
    "    # Basic statistics\n",
    "print(df.describe())\n"
   ]
  },
  {
   "cell_type": "code",
   "execution_count": 12,
   "metadata": {},
   "outputs": [],
   "source": [
    "response_data = data['network']['stations']\n",
    "bike_stations = pd.json_normalize(response_data)\n",
    "\n",
    "# drop unnecessary columns\n",
    "columns_to_drop = list(bike_stations.columns[6:])\n",
    "bike_stations = bike_stations.drop(columns=columns_to_drop)"
   ]
  },
  {
   "cell_type": "code",
   "execution_count": 13,
   "metadata": {},
   "outputs": [
    {
     "data": {
      "text/html": [
       "<div>\n",
       "<style scoped>\n",
       "    .dataframe tbody tr th:only-of-type {\n",
       "        vertical-align: middle;\n",
       "    }\n",
       "\n",
       "    .dataframe tbody tr th {\n",
       "        vertical-align: top;\n",
       "    }\n",
       "\n",
       "    .dataframe thead th {\n",
       "        text-align: right;\n",
       "    }\n",
       "</style>\n",
       "<table border=\"1\" class=\"dataframe\">\n",
       "  <thead>\n",
       "    <tr style=\"text-align: right;\">\n",
       "      <th></th>\n",
       "      <th>empty_slots</th>\n",
       "      <th>free_bikes</th>\n",
       "      <th>id</th>\n",
       "      <th>latitude</th>\n",
       "      <th>longitude</th>\n",
       "      <th>name</th>\n",
       "    </tr>\n",
       "  </thead>\n",
       "  <tbody>\n",
       "    <tr>\n",
       "      <th>0</th>\n",
       "      <td>23</td>\n",
       "      <td>8</td>\n",
       "      <td>dedcd93fbe85671e73c79baf58bd7fed</td>\n",
       "      <td>41.425364</td>\n",
       "      <td>2.185207</td>\n",
       "      <td>C/ CARDENAL TEDESCHINI, 13</td>\n",
       "    </tr>\n",
       "    <tr>\n",
       "      <th>1</th>\n",
       "      <td>15</td>\n",
       "      <td>8</td>\n",
       "      <td>5c10c2dba1c5a8e8d9dcbb251fd8eab7</td>\n",
       "      <td>41.430000</td>\n",
       "      <td>2.190246</td>\n",
       "      <td>RAMBLA DE L'ONZE DE SETEMBRE, 69</td>\n",
       "    </tr>\n",
       "    <tr>\n",
       "      <th>2</th>\n",
       "      <td>8</td>\n",
       "      <td>16</td>\n",
       "      <td>f1aaf083aaa04498aad975bc45bdc089</td>\n",
       "      <td>41.443365</td>\n",
       "      <td>2.190630</td>\n",
       "      <td>PG. TORRAS I BAGES, 129</td>\n",
       "    </tr>\n",
       "    <tr>\n",
       "      <th>3</th>\n",
       "      <td>2</td>\n",
       "      <td>16</td>\n",
       "      <td>4a30020e6926a2ba39f88be0f6bba5cb</td>\n",
       "      <td>41.377532</td>\n",
       "      <td>2.170732</td>\n",
       "      <td>C/ SANT OLEGUER, 2</td>\n",
       "    </tr>\n",
       "    <tr>\n",
       "      <th>4</th>\n",
       "      <td>21</td>\n",
       "      <td>3</td>\n",
       "      <td>e964297fbcd2fc96bb6632e5a530d0df</td>\n",
       "      <td>41.375116</td>\n",
       "      <td>2.152309</td>\n",
       "      <td>AV. PARAL.LEL, 194</td>\n",
       "    </tr>\n",
       "  </tbody>\n",
       "</table>\n",
       "</div>"
      ],
      "text/plain": [
       "   empty_slots  free_bikes                                id   latitude  \\\n",
       "0           23           8  dedcd93fbe85671e73c79baf58bd7fed  41.425364   \n",
       "1           15           8  5c10c2dba1c5a8e8d9dcbb251fd8eab7  41.430000   \n",
       "2            8          16  f1aaf083aaa04498aad975bc45bdc089  41.443365   \n",
       "3            2          16  4a30020e6926a2ba39f88be0f6bba5cb  41.377532   \n",
       "4           21           3  e964297fbcd2fc96bb6632e5a530d0df  41.375116   \n",
       "\n",
       "   longitude                              name  \n",
       "0   2.185207        C/ CARDENAL TEDESCHINI, 13  \n",
       "1   2.190246  RAMBLA DE L'ONZE DE SETEMBRE, 69  \n",
       "2   2.190630           PG. TORRAS I BAGES, 129  \n",
       "3   2.170732                C/ SANT OLEGUER, 2  \n",
       "4   2.152309                AV. PARAL.LEL, 194  "
      ]
     },
     "execution_count": 13,
     "metadata": {},
     "output_type": "execute_result"
    }
   ],
   "source": [
    "bike_stations.head()"
   ]
  },
  {
   "cell_type": "code",
   "execution_count": 14,
   "metadata": {},
   "outputs": [
    {
     "data": {
      "text/plain": [
       "(505, 6)"
      ]
     },
     "execution_count": 14,
     "metadata": {},
     "output_type": "execute_result"
    }
   ],
   "source": [
    "bike_stations.shape"
   ]
  },
  {
   "cell_type": "code",
   "execution_count": 15,
   "metadata": {},
   "outputs": [
    {
     "name": "stdout",
     "output_type": "stream",
     "text": [
      "<class 'pandas.core.frame.DataFrame'>\n",
      "RangeIndex: 505 entries, 0 to 504\n",
      "Data columns (total 6 columns):\n",
      " #   Column       Non-Null Count  Dtype  \n",
      "---  ------       --------------  -----  \n",
      " 0   empty_slots  505 non-null    int64  \n",
      " 1   free_bikes   505 non-null    int64  \n",
      " 2   id           505 non-null    object \n",
      " 3   latitude     505 non-null    float64\n",
      " 4   longitude    505 non-null    float64\n",
      " 5   name         505 non-null    object \n",
      "dtypes: float64(2), int64(2), object(2)\n",
      "memory usage: 23.8+ KB\n"
     ]
    }
   ],
   "source": [
    "bike_stations.info()"
   ]
  },
  {
   "cell_type": "code",
   "execution_count": 16,
   "metadata": {},
   "outputs": [],
   "source": [
    "#save data to use in another notebook \n",
    "bike_stations.to_csv('../data/bike_stations_barcelona.csv')"
   ]
  }
 ],
 "metadata": {
  "kernelspec": {
   "display_name": "Python 3",
   "language": "python",
   "name": "python3"
  },
  "language_info": {
   "codemirror_mode": {
    "name": "ipython",
    "version": 3
   },
   "file_extension": ".py",
   "mimetype": "text/x-python",
   "name": "python",
   "nbconvert_exporter": "python",
   "pygments_lexer": "ipython3",
   "version": "3.10.11"
  }
 },
 "nbformat": 4,
 "nbformat_minor": 4
}
