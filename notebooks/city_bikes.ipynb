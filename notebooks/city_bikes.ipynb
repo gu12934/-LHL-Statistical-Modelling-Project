{
 "cells": [
  {
   "cell_type": "markdown",
   "metadata": {},
   "source": [
    "# CityBikes"
   ]
  },
  {
   "cell_type": "markdown",
   "metadata": {},
   "source": [
    "Need to add the relevant libraries first\n"
   ]
  },
  {
   "cell_type": "code",
   "execution_count": 2,
   "metadata": {},
   "outputs": [],
   "source": [
    "import requests\n",
    "import os\n",
    "import pandas as pd"
   ]
  },
  {
   "cell_type": "markdown",
   "metadata": {},
   "source": [
    "Explore the structure of the API, query the API and understand the data returned.\n"
   ]
  },
  {
   "cell_type": "code",
   "execution_count": null,
   "metadata": {},
   "outputs": [],
   "source": [
    "# API End points\n",
    "# http://api.citybik.es/v2/networks\n",
    "# {\n",
    "#   \"networks\": [\n",
    "#     {\n",
    "#         \"company\": \"JCDecaux\", \n",
    "#         \"href\": \"/v2/networks/velib\", <--- network API endpoint\n",
    "#         \"location\": {\n",
    "#           \"latitude\": 48.856612, \n",
    "#           \"city\": \"Paris\", \n",
    "#           \"longitude\": 2.352233, \n",
    "#           \"country\": \"FRA\"\n",
    "#         }, \n",
    "#         \"name\": \"Vélib'\", \n",
    "#         \"id\": \"velib\"\n",
    "#     },\n",
    "#     {...}\n",
    "#   ]\n",
    "# }\n",
    "# http://api.citybik.es/v2/networks/network_id\n",
    "\n",
    "# {\n",
    "#   \"network\": {\n",
    "#     \"name\": \"Vélib'\", \n",
    "#     \"stations\": [\n",
    "#       {\n",
    "#           \"name\": \"00903 - QUAI MAURIAC  / PONT DE BERCY\",   /   UTC Zulu timestamp of the last time\n",
    "#           \"timestamp\": \"2014-04-14T12:10:17.622Z\",  <-------/ the station was updated on our systems\n",
    "#           \"longitude\": 2.374340554605615,                       \n",
    "#           \"free_bikes\": 1,   <-------------------------- Available bikes\n",
    "#           \"latitude\": 48.83713368945151, \n",
    "#           \"empty_slots\": 19,  <------------------------- Empty spaces\n",
    "#           \"id\": \"f5a551a87eec15155d6409fe9d0ff8e2\" <---- Unique id for this station\n",
    "#       },\n",
    "#       {...}\n",
    "#     ], \n",
    "#     \"company\": \"JCDecaux\",           |\n",
    "#     \"href\": \"/v2/networks/velib\",       |        Redundant Information\n",
    "#     \"location\": {                    |\n",
    "#       \"latitude\": 48.856612,         |    Just so you know where you are\n",
    "#       \"city\": \"Paris\",               |---      with less requests\n",
    "#       \"longitude\": 2.352233,         | \n",
    "#       \"country\": \"FRA\"               |    This can be filtered by passing\n",
    "#     },                               |      ?fields=stations to the URI\n",
    "#     \"id\": \"velib\"                    |\n",
    "#   }\n",
    "# }\n"
   ]
  },
  {
   "cell_type": "markdown",
   "metadata": {},
   "source": [
    "Send a request to CityBikes for the city of your choice. \n"
   ]
  },
  {
   "cell_type": "code",
   "execution_count": 25,
   "metadata": {},
   "outputs": [],
   "source": [
    "# Step 1: Choose a city and get the network ID from the /v2/networks endpoint\n",
    "city_name = 'Barcelona'\n",
    "networks_url = 'http://api.citybik.es/v2/networks'\n",
    "response = requests.get(networks_url)\n",
    "networks_data = response.json()"
   ]
  },
  {
   "cell_type": "code",
   "execution_count": 26,
   "metadata": {},
   "outputs": [],
   "source": [
    "# Find the network information for the chosen city\n",
    "network_info = next((network for network in networks_data['networks'] if network['location']['city'] == city_name), None)\n",
    "\n",
    "if network_info:\n",
    "    # Step 2: Use the network ID to retrieve information about bike stations in that city\n",
    "    network_id = network_info['id']\n",
    "    api_url = f'http://api.citybik.es/v2/networks/{network_id}'\n",
    "\n",
    "    response = requests.get(api_url)\n",
    "    data = response.json()"
   ]
  },
  {
   "cell_type": "markdown",
   "metadata": {},
   "source": [
    "Parse through the response to get the details you want for the bike stations in that city (latitude, longitude, number of bikes). "
   ]
  },
  {
   "cell_type": "code",
   "execution_count": 27,
   "metadata": {},
   "outputs": [],
   "source": [
    "# Step 3: Extract relevant station information\n",
    "station_data = []\n",
    "for station in data['network']['stations']:\n",
    "        station_info = {\n",
    "            'latitude': station['latitude'],\n",
    "            'longitude': station['longitude'],\n",
    "            'num_bikes': station['free_bikes'],\n",
    "            \n",
    "        }\n",
    "        station_data.append(station_info)"
   ]
  },
  {
   "cell_type": "markdown",
   "metadata": {},
   "source": [
    "Put your parsed results into a DataFrame."
   ]
  },
  {
   "cell_type": "code",
   "execution_count": 28,
   "metadata": {},
   "outputs": [],
   "source": [
    "    # Step 4: Create a Pandas DataFrame\n",
    "    df = pd.DataFrame(station_data)\n"
   ]
  },
  {
   "cell_type": "code",
   "execution_count": 29,
   "metadata": {},
   "outputs": [
    {
     "name": "stdout",
     "output_type": "stream",
     "text": [
      "    latitude  longitude  num_bikes\n",
      "0  41.425364   2.185207          7\n",
      "1  41.430000   2.190246         23\n",
      "2  41.443365   2.190630          9\n",
      "3  41.377532   2.170732          1\n",
      "4  41.375116   2.152309         12\n",
      "         latitude   longitude   num_bikes\n",
      "count  506.000000  506.000000  506.000000\n",
      "mean    41.399846    2.168036    9.784585\n",
      "std      0.021064    0.024661    7.258115\n",
      "min     41.346775    2.109154    0.000000\n",
      "25%     41.383994    2.149077    4.000000\n",
      "50%     41.396429    2.170662    8.000000\n",
      "75%     41.412062    2.187232   14.000000\n",
      "max     41.462095    2.220691   33.000000\n"
     ]
    }
   ],
   "source": [
    " # Step 5: Explore and Analyze the Data\n",
    "    # Display the first few rows of the DataFrame\n",
    "print(df.head())\n",
    "\n",
    "    # Basic statistics\n",
    "print(df.describe())\n"
   ]
  },
  {
   "cell_type": "code",
   "execution_count": null,
   "metadata": {},
   "outputs": [],
   "source": []
  }
 ],
 "metadata": {
  "kernelspec": {
   "display_name": "Python 3",
   "language": "python",
   "name": "python3"
  },
  "language_info": {
   "codemirror_mode": {
    "name": "ipython",
    "version": 3
   },
   "file_extension": ".py",
   "mimetype": "text/x-python",
   "name": "python",
   "nbconvert_exporter": "python",
   "pygments_lexer": "ipython3",
   "version": "3.10.11"
  }
 },
 "nbformat": 4,
 "nbformat_minor": 4
}
