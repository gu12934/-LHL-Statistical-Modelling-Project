{
 "cells": [
  {
   "cell_type": "code",
   "execution_count": 1,
   "metadata": {},
   "outputs": [],
   "source": [
    "# imports\n",
    "import pandas as pd\n",
    "import matplotlib.pyplot as plt\n",
    "import seaborn as sns\n",
    "from IPython import display\n",
    "sns.set_theme(palette='colorblind')"
   ]
  },
  {
   "cell_type": "markdown",
   "metadata": {},
   "source": [
    "Join the data from Part 1 with the data from Part 2 to create a new dataframe."
   ]
  },
  {
   "cell_type": "code",
   "execution_count": null,
   "metadata": {},
   "outputs": [],
   "source": [
    "# load the bike stations and yelp poi dataframes\n",
    "bike_stations = pd.read_csv('../data/bike_stations_barcelona.csv', index_col=0)\n",
    "# yelp_poi = pd.read_csv('../data/bike_stations_barcelona_poi_yelp.csv', index_col=0)\n",
    "\n",
    "# Rename bike_stations id column to match yelp_poi so they can be merged\n",
    "# bike_stations = bike_stations.rename(columns={'id': 'station_id'})"
   ]
  },
  {
   "cell_type": "code",
   "execution_count": null,
   "metadata": {},
   "outputs": [],
   "source": [
    "# Checking the number of rows of each df\n",
    "print(bike_stations.shape)\n",
    "# print(yelp_poi.shape)"
   ]
  },
  {
   "cell_type": "code",
   "execution_count": null,
   "metadata": {},
   "outputs": [],
   "source": [
    "# Join both dataframes based on the station_id\n",
    "full_df = pd.merge(bike_stations, yelp_poi, how='outer', on='station_id')\n",
    "\n",
    "full_df = full_df.rename(columns={'name_x': 'station_name', 'name_y': 'poi_name'})\n",
    "\n",
    "full_df.head()"
   ]
  },
  {
   "cell_type": "code",
   "execution_count": null,
   "metadata": {},
   "outputs": [],
   "source": [
    "# Checking if the merge worked correctly\n",
    "print('Diff of number of bike stations:', bike_stations.shape[0] - len(full_df['station_id'].unique()))\n",
    "\n",
    "print('Diff of number of POI:', yelp_poi.shape[0] - full_df.shape[0])"
   ]
  },
  {
   "cell_type": "code",
   "execution_count": null,
   "metadata": {},
   "outputs": [],
   "source": [
    "full_df.info()"
   ]
  },
  {
   "cell_type": "code",
   "execution_count": null,
   "metadata": {},
   "outputs": [],
   "source": [
    "# Identify the points of interest that are null\n",
    "full_df[full_df['poi_id'].isnull()]"
   ]
  },
  {
   "cell_type": "code",
   "execution_count": null,
   "metadata": {},
   "outputs": [],
   "source": [
    "#save data\n",
    "full_df.to_csv('../data/bike_stations_hamilton_full_poi.csv')"
   ]
  },
  {
   "cell_type": "markdown",
   "metadata": {},
   "source": [
    "Provide a visualization that you used as part of your EDA process. Explain the initial pattern or relationship you discoved through this visualization. "
   ]
  },
  {
   "cell_type": "code",
   "execution_count": null,
   "metadata": {},
   "outputs": [],
   "source": [
    "full_df.head()"
   ]
  },
  {
   "cell_type": "code",
   "execution_count": null,
   "metadata": {},
   "outputs": [],
   "source": [
    "full_df.shape"
   ]
  },
  {
   "cell_type": "code",
   "execution_count": null,
   "metadata": {},
   "outputs": [],
   "source": [
    "full_df.info()"
   ]
  },
  {
   "cell_type": "code",
   "execution_count": null,
   "metadata": {},
   "outputs": [],
   "source": [
    "fig, axes = plt.subplots(2, 4, figsize=(14, 5))\n",
    "\n",
    "sns.histplot(ax=axes[0,0], data=full_df, x='empty_slots', kde=True)\n",
    "sns.histplot(ax=axes[0,1], data=full_df, x='free_bikes', kde=True)\n",
    "sns.histplot(ax=axes[0,2], data=full_df, x='latitude', kde=True)\n",
    "sns.histplot(ax=axes[0,3], data=full_df, x='longitude', kde=True)\n",
    "sns.histplot(ax=axes[1,0], data=full_df, x='review_count', kde=True)\n",
    "sns.histplot(ax=axes[1,1], data=full_df, x='rating', kde=True)\n",
    "sns.histplot(ax=axes[1,2], data=full_df, x='price', kde=True)\n",
    "sns.histplot(ax=axes[1,3], data=full_df, x='distance', kde=True)\n",
    "\n",
    "fig.tight_layout()\n",
    "\n",
    "plt.show()\n",
    "\n",
    "fig.savefig('../images/full_df_hist.svg')"
   ]
  },
  {
   "cell_type": "code",
   "execution_count": null,
   "metadata": {},
   "outputs": [],
   "source": [
    "fig, axes = plt.subplots(2, 4, figsize=(12, 8))\n",
    "\n",
    "\n",
    "sns.boxplot(ax=axes[0, 0], data=full_df, y='empty_slots')\n",
    "sns.boxplot(ax=axes[0, 1], data=full_df, y='free_bikes')\n",
    "sns.boxplot(ax=axes[0, 2], data=full_df, y='latitude')\n",
    "sns.boxplot(ax=axes[0, 3], data=full_df, y='longitude')\n",
    "sns.boxplot(ax=axes[1, 0], data=full_df, y='review_count')\n",
    "sns.boxplot(ax=axes[1, 1], data=full_df, y='rating')\n",
    "sns.boxplot(ax=axes[1, 2], data=full_df, y='price')\n",
    "sns.boxplot(ax=axes[1, 3], data=full_df, y='distance')\n",
    "\n",
    "\n",
    "plt.tight_layout()\n",
    "\n",
    "plt.show()\n",
    "\n",
    "fig.savefig('../images/full_df_boxplot.svg')"
   ]
  },
  {
   "cell_type": "code",
   "execution_count": null,
   "metadata": {},
   "outputs": [],
   "source": [
    "ax = sns.heatmap(full_df.select_dtypes(exclude=[object]).corr(), vmin=-1, vmax=1, cmap='RdYlGn', annot=True, linewidth=.1, linecolor=\"black\")\n",
    "ax.set(title='Head Map Full Dataset')\n",
    "\n",
    "plt.tight_layout()\n",
    "\n",
    "plt.savefig('../"
   ]
  },
  {
   "cell_type": "code",
   "execution_count": null,
   "metadata": {},
   "outputs": [],
   "source": [
    "sns.pairplot(full_df)\n",
    "\n",
    "plt.savefig('../images/full_df_pairgrid.svg')\n",
    "plt.show()"
   ]
  },
  {
   "cell_type": "markdown",
   "metadata": {},
   "source": [
    "# Database"
   ]
  },
  {
   "cell_type": "markdown",
   "metadata": {},
   "source": [
    "Put all your results in an SQLite3 database (remember, SQLite stores its databases as files in your local machine - make sure to create your database in your project's data/ directory!)"
   ]
  },
  {
   "cell_type": "code",
   "execution_count": null,
   "metadata": {},
   "outputs": [],
   "source": [
    "import sqlite3\n",
    "from sqlite3 import Error\n",
    "\n",
    "def create_connection(path):\n",
    "    connection = None\n",
    "    try:\n",
    "        connection = sqlite3.connect(path)\n",
    "        print(\"Connection to SQLite DB successful\")\n",
    "    except Error as e:\n",
    "        print(f\"The error '{e}' occurred\")\n",
    "\n",
    "    return connection"
   ]
  },
  {
   "cell_type": "code",
   "execution_count": null,
   "metadata": {},
   "outputs": [],
   "source": [
    "connection = create_connection(\"../data/hamilton_bikes.sqlite\")"
   ]
  },
  {
   "cell_type": "markdown",
   "metadata": {},
   "source": [
    "Look at the data before and after the join to validate your data."
   ]
  },
  {
   "cell_type": "code",
   "execution_count": null,
   "metadata": {},
   "outputs": [],
   "source": [
    "def execute_query(connection, query):\n",
    "    cursor = connection.cursor()\n",
    "    try:\n",
    "        cursor.execute(query)\n",
    "        connection.commit()\n",
    "        print(\"Query executed successfully\")\n",
    "    except Error as e:\n",
    "        print(f\"The error '{e}' occurred\")"
   ]
  },
  {
   "cell_type": "code",
   "execution_count": null,
   "metadata": {},
   "outputs": [],
   "source": [
    "bike_stations.info()"
   ]
  },
  {
   "cell_type": "code",
   "execution_count": null,
   "metadata": {},
   "outputs": [],
   "source": [
    "create_bike_stations_table = \"\"\"\n",
    "CREATE TABLE IF NOT EXISTS bike_stations_hamilton (\n",
    "  empty_slots INTEGER,\n",
    "  free_bikes INTEGER,\n",
    "  station_id TEXT NOT NULL PRIMARY KEY,\n",
    "  latitude FLOAT,\n",
    "  longitude FLOAT,\n",
    "  name TEXT\n",
    ");\n",
    "\"\"\""
   ]
  },
  {
   "cell_type": "code",
   "execution_count": null,
   "metadata": {},
   "outputs": [],
   "source": [
    "execute_query(connection, create_bike_stations_table)"
   ]
  },
  {
   "cell_type": "code",
   "execution_count": null,
   "metadata": {},
   "outputs": [],
   "source": [
    "yelp_poi.info()"
   ]
  },
  {
   "cell_type": "code",
   "execution_count": null,
   "metadata": {},
   "outputs": [],
   "source": [
    "create_yelp_poi_table = \"\"\"\n",
    "CREATE TABLE IF NOT EXISTS yelp_poi_hamilton (\n",
    "  poi_id TEXT,\n",
    "  name TEXT,\n",
    "  review_count FLOAT,\n",
    "  rating FLOAT,\n",
    "  price TEXT,\n",
    "  distance FLOAT,\n",
    "  full_address TEXT,\n",
    "  station_id TEXT,\n",
    "  FOREIGN KEY (station_id) REFERENCES bike_stations_hamilton (station_id)\n",
    ");"
   ]
  },
  {
   "cell_type": "code",
   "execution_count": null,
   "metadata": {},
   "outputs": [],
   "source": [
    "execute_query(connection, create_yelp_poi_table)"
   ]
  },
  {
   "cell_type": "code",
   "execution_count": null,
   "metadata": {},
   "outputs": [],
   "source": [
    "bike_stations.to_sql('bike_stations_hamilton', connection, if_exists='replace')"
   ]
  },
  {
   "cell_type": "code",
   "execution_count": null,
   "metadata": {},
   "outputs": [],
   "source": [
    "yelp_poi.to_sql('yelp_poi_hamilton', connection, if_exists='replace')"
   ]
  },
  {
   "cell_type": "code",
   "execution_count": null,
   "metadata": {},
   "outputs": [],
   "source": [
    "def execute_read_query(connection, query):\n",
    "    cursor = connection.cursor()\n",
    "    result = None\n",
    "    try:\n",
    "        cursor.execute(query)\n",
    "        result = cursor.fetchall()\n",
    "        return result\n",
    "    except Error as e:\n",
    "        print(f\"The error '{e}' occurred\")"
   ]
  },
  {
   "cell_type": "code",
   "execution_count": null,
   "metadata": {},
   "outputs": [],
   "source": [
    "select_stations = \"SELECT * from bike_stations_hamilton limit 5\"\n",
    "bike_stations_table = execute_read_query(connection, select_stations)\n",
    "\n",
    "for station in bike_stations_table:\n",
    "    print(station)"
   ]
  },
  {
   "cell_type": "code",
   "execution_count": null,
   "metadata": {},
   "outputs": [],
   "source": [
    "select_poi = \"SELECT * from yelp_poi_hamilton limit 5\"\n",
    "yelp_poi_table = execute_read_query(connection, select_poi)\n",
    "\n",
    "for poi in yelp_poi_table:\n",
    "    print(poi)"
   ]
  },
  {
   "cell_type": "code",
   "execution_count": null,
   "metadata": {},
   "outputs": [],
   "source": [
    "# Checking if the merge worked correctly\n",
    "print('Diff of number of bike stations:', bike_stations.shape[0] - len(full_df['station_id'].unique()))\n",
    "\n",
    "print('Diff of number of POI:', yelp_poi.shape[0] - full_df.shape[0])"
   ]
  },
  {
   "cell_type": "code",
   "execution_count": null,
   "metadata": {},
   "outputs": [],
   "source": [
    "full_df.info()"
   ]
  }
 ],
 "metadata": {
  "kernelspec": {
   "display_name": "Python 3",
   "language": "python",
   "name": "python3"
  },
  "language_info": {
   "codemirror_mode": {
    "name": "ipython",
    "version": 3
   },
   "file_extension": ".py",
   "mimetype": "text/x-python",
   "name": "python",
   "nbconvert_exporter": "python",
   "pygments_lexer": "ipython3",
   "version": "3.11.0"
  }
 },
 "nbformat": 4,
 "nbformat_minor": 4
}
