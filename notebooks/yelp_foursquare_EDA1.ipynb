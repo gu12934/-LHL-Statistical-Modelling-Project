{
 "cells": [
  {
   "cell_type": "code",
   "execution_count": 2,
   "metadata": {},
   "outputs": [],
   "source": [
    "# imports\n",
    "import requests\n",
    "import pandas as pd\n",
    "import os"
   ]
  },
  {
   "cell_type": "code",
   "execution_count": 3,
   "metadata": {},
   "outputs": [],
   "source": [
    "api_key = os.getenv(\"fsq_api_key\")"
   ]
  },
  {
   "cell_type": "code",
   "execution_count": 4,
   "metadata": {},
   "outputs": [],
   "source": [
    "# Function to make an http request to foursqure for each bike station\n",
    "def get_poi_fs(latitude, longitude, radius, api_key, categories):    \n",
    "    url = f'https://api.foursquare.com/v3/places/search?ll={latitude},{longitude}&radius={radius}'\n",
    "\n",
    "    # Create dictionary for headers\n",
    "    headers = {\"Accept\": \"application/json\"}\n",
    "    headers['Authorization'] = api_key\n",
    "    reponse = requests.get(url, headers=headers)\n",
    "    reponse_data = reponse.json()\n",
    "    \n",
    "    return reponse_data['results']"
   ]
  },
  {
   "cell_type": "code",
   "execution_count": 5,
   "metadata": {},
   "outputs": [],
   "source": [
    "# #Create list with desired categories from Yelp\n",
    "# dining_cat_ids = ['restaurants', 'bars', 'pubs']"
   ]
  },
  {
   "cell_type": "code",
   "execution_count": 6,
   "metadata": {},
   "outputs": [],
   "source": [
    "# assuming api_key is a variable containing the API key\n",
    "res = get_poi_fs(41.3874, 2.1686, 1000, api_key, categories=['restaurants', 'bars', 'pubs'])\n"
   ]
  },
  {
   "cell_type": "code",
   "execution_count": 7,
   "metadata": {},
   "outputs": [
    {
     "data": {
      "text/plain": [
       "{'fsq_id': '5c4714533ba767002caedd2b',\n",
       " 'categories': [{'id': 13302,\n",
       "   'name': 'Mediterranean Restaurant',\n",
       "   'short_name': 'Mediterranean',\n",
       "   'plural_name': 'Mediterranean Restaurants',\n",
       "   'icon': {'prefix': 'https://ss3.4sqi.net/img/categories_v2/food/mediterranean_',\n",
       "    'suffix': '.png'}}],\n",
       " 'chains': [],\n",
       " 'closed_bucket': 'VeryLikelyOpen',\n",
       " 'distance': 47,\n",
       " 'geocodes': {'drop_off': {'latitude': 41.387677, 'longitude': 2.168101},\n",
       "  'main': {'latitude': 41.387526, 'longitude': 2.167989},\n",
       "  'roof': {'latitude': 41.387526, 'longitude': 2.167989}},\n",
       " 'link': '/v3/places/5c4714533ba767002caedd2b',\n",
       " 'location': {'address': 'Rambla Catalunya, 3',\n",
       "  'admin_region': 'Cataluña',\n",
       "  'country': 'ES',\n",
       "  'cross_street': '',\n",
       "  'formatted_address': 'Rambla Catalunya, 3, 08007 Barcelona Catalunya',\n",
       "  'locality': 'Barcelona',\n",
       "  'postcode': '08007',\n",
       "  'region': 'Catalunya'},\n",
       " 'name': 'Honest Greens Rambla Catalunya',\n",
       " 'related_places': {},\n",
       " 'timezone': 'Europe/Madrid'}"
      ]
     },
     "execution_count": 7,
     "metadata": {},
     "output_type": "execute_result"
    }
   ],
   "source": [
    "# to explore the result of a single POI from the testing call\n",
    "res[0]"
   ]
  },
  {
   "cell_type": "markdown",
   "metadata": {},
   "source": [
    "Put your parsed results into a DataFrame ___"
   ]
  },
  {
   "cell_type": "code",
   "execution_count": 8,
   "metadata": {},
   "outputs": [],
   "source": [
    "# load the df of the bike stations containing the latitude and longitude\n",
    "bike_stations_load1 = pd.read_csv('../data/bike_stations_barcelona.csv', index_col=0)"
   ]
  },
  {
   "cell_type": "code",
   "execution_count": 9,
   "metadata": {},
   "outputs": [],
   "source": [
    "# Create an empty dataframe\n",
    "foursquare_df = pd.DataFrame()"
   ]
  },
  {
   "cell_type": "code",
   "execution_count": 10,
   "metadata": {},
   "outputs": [],
   "source": [
    "# Loop through the bike_stations df to extract the lat/long/id of each row and make a new http request\n",
    "for index, row in bike_stations_load1.iterrows():\n",
    "    # Make the http request using row attributes\n",
    "    poi_fs = get_poi_fs(row['latitude'], row['longitude'], 1000, api_key, categories=None)\n",
    "    # Turn the response into a dataframe\n",
    "    new_df = pd.json_normalize(poi_fs, record_path=['categories'], meta=['fsq_id', 'name', 'distance', ['location', 'address']], meta_prefix='poi_', errors='ignore')\n",
    "    # Add a column with the corresponding bike station id\n",
    "    new_df['station_id'] = row['id'] \n",
    "    # Add the new dataframe to yelp_df\n",
    "    foursquare_df = pd.concat([foursquare_df, new_df])\n"
   ]
  },
  {
   "cell_type": "code",
   "execution_count": null,
   "metadata": {},
   "outputs": [],
   "source": [
    "# Drop unnecessary columns from dataframe\n",
    "columns_to_drop_foursquare = ['short_name', 'plural_name', 'icon.prefix', 'icon.suffix']\n",
    "\n",
    "foursquare_df = foursquare_df.drop(columns=columns_to_drop_foursquare)\n",
    "\n",
    "# Rename columns\n",
    "foursquare_df = foursquare_df.rename(columns={\"id\": \"category_id\", \"name\": \"category_name\", 'poi_location.address': 'poi_address'})"
   ]
  },
  {
   "cell_type": "code",
   "execution_count": null,
   "metadata": {},
   "outputs": [
    {
     "ename": "NameError",
     "evalue": "name 'foursquare_df' is not defined",
     "output_type": "error",
     "traceback": [
      "\u001b[1;31m---------------------------------------------------------------------------\u001b[0m",
      "\u001b[1;31mNameError\u001b[0m                                 Traceback (most recent call last)",
      "Cell \u001b[1;32mIn[1], line 2\u001b[0m\n\u001b[0;32m      1\u001b[0m \u001b[38;5;66;03m# Reorder columns\u001b[39;00m\n\u001b[1;32m----> 2\u001b[0m foursquare_df \u001b[38;5;241m=\u001b[39m \u001b[43mfoursquare_df\u001b[49m[[\u001b[38;5;124m'\u001b[39m\u001b[38;5;124mpoi_fsq_id\u001b[39m\u001b[38;5;124m'\u001b[39m, \u001b[38;5;124m'\u001b[39m\u001b[38;5;124mpoi_name\u001b[39m\u001b[38;5;124m'\u001b[39m, \u001b[38;5;124m'\u001b[39m\u001b[38;5;124mcategory_id\u001b[39m\u001b[38;5;124m'\u001b[39m, \u001b[38;5;124m'\u001b[39m\u001b[38;5;124mcategory_name\u001b[39m\u001b[38;5;124m'\u001b[39m, \u001b[38;5;124m'\u001b[39m\u001b[38;5;124mpoi_distance\u001b[39m\u001b[38;5;124m'\u001b[39m, \u001b[38;5;124m'\u001b[39m\u001b[38;5;124mpoi_address\u001b[39m\u001b[38;5;124m'\u001b[39m, \u001b[38;5;124m'\u001b[39m\u001b[38;5;124mstation_id\u001b[39m\u001b[38;5;124m'\u001b[39m]]\n",
      "\u001b[1;31mNameError\u001b[0m: name 'foursquare_df' is not defined"
     ]
    }
   ],
   "source": [
    "# Reorder columns\n",
    "foursquare_df = foursquare_df[['poi_fsq_id', 'poi_name', 'category_id', 'category_name', 'poi_distance', 'poi_address', 'station_id']]"
   ]
  },
  {
   "cell_type": "code",
   "execution_count": null,
   "metadata": {},
   "outputs": [],
   "source": [
    "print(foursquare_df.shape, '\\n')\n",
    "print(foursquare_df.info())"
   ]
  },
  {
   "cell_type": "code",
   "execution_count": null,
   "metadata": {},
   "outputs": [],
   "source": [
    "foursquare_df.head()"
   ]
  },
  {
   "cell_type": "code",
   "execution_count": null,
   "metadata": {},
   "outputs": [],
   "source": [
    "#save data to use in another notebook \n",
    "foursquare_df.to_csv('../data/bike_stations_barcelona_poi_foursquare.csv')"
   ]
  }
 ],
 "metadata": {
  "kernelspec": {
   "display_name": "Python 3",
   "language": "python",
   "name": "python3"
  },
  "language_info": {
   "codemirror_mode": {
    "name": "ipython",
    "version": 3
   },
   "file_extension": ".py",
   "mimetype": "text/x-python",
   "name": "python",
   "nbconvert_exporter": "python",
   "pygments_lexer": "ipython3",
   "version": "3.11.0"
  }
 },
 "nbformat": 4,
 "nbformat_minor": 2
}
